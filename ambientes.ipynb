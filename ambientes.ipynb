{
 "cells": [
  {
   "cell_type": "markdown",
   "metadata": {},
   "source": [
    "## Simpy\n",
    "Ejercicios para aprender a usar ambientes en python con la BIBLIOTECA simpy, con sistemas discretos. Importamos simpy"
   ]
  },
  {
   "cell_type": "code",
   "execution_count": null,
   "metadata": {},
   "outputs": [],
   "source": [
    "import simpy"
   ]
  },
  {
   "cell_type": "markdown",
   "metadata": {},
   "source": [
    "El objeto provee una colección de métodos que nos permite controlar el ambiente, donde todo ocurre incluyendo el tiempo (de la ejecución), lo podríamos ver como escenario. \n"
   ]
  },
  {
   "cell_type": "code",
   "execution_count": null,
   "metadata": {},
   "outputs": [],
   "source": [
    "env = simpy.Environment() #Creamos el ambiente con simpy\n",
    "print('time=', env.now) #es el tiempo 0\n",
    "env.run() #Así lo corremos aunque no hemos puesto nada en la simulacion"
   ]
  },
  {
   "cell_type": "markdown",
   "metadata": {},
   "source": [
    "Los procesos con componentes activos que se implemetan con yield y se adjuntan con env.process.\n",
    "\n",
    "Un proceso se comunica con el entorno con yield, es decir envia un evento al ambiente.\n",
    "\n",
    "Los procesos se describen mediante los generadores de python"
   ]
  },
  {
   "cell_type": "code",
   "execution_count": null,
   "metadata": {},
   "outputs": [],
   "source": [
    "def print_msg():\n",
    "    yield env.timeout(500)\n",
    "    print('time =', env.now,'; mensaje de prueba jsjs')\n",
    "\n",
    "#Creamos el ambiente \n",
    "env = simpy.Environment()\n",
    "\n",
    "#Usamos el generador para crear el proceso, que genera la funcion\n",
    "env.process(print_msg())\n",
    "\n",
    "#corremos la simulación\n",
    "env.run()"
   ]
  },
  {
   "cell_type": "markdown",
   "metadata": {},
   "source": [
    "También puede recibir argumentos para saber en qué momento correrlo, como le indicamos el momento entonces los imprimirá en orden"
   ]
  },
  {
   "cell_type": "code",
   "execution_count": null,
   "metadata": {},
   "outputs": [],
   "source": [
    "def print_msg_param(demora, msg):\n",
    "    yield env.timeout(demora)\n",
    "    print(f'time {demora}: {msg}')\n",
    "\n",
    "#Creamos el ambiente con simpy.Environment, y lo procesamos\n",
    "env.process(print_msg_param(3, 'Este es el tercer mensaje'))\n",
    "env.process(print_msg_param(1, 'Este es el primer mensaje'))\n",
    "env.process(print_msg_param(2, 'Este es el segundo mensaje'))\n",
    "env.process(print_msg_param(5, 'Este es el quinto mensaje'))\n",
    "env.process(print_msg_param(4, 'Este es el cuarto mensaje'))\n",
    "#Se imprimiran en orden ya que le indicamos el tiempo\n",
    "env.run()"
   ]
  },
  {
   "cell_type": "markdown",
   "metadata": {},
   "source": [
    "Cuando un proceso produce un evento el proceso se suspende y simpy reanuda el procesos cuando ocurre un evento, es algo analogo con las rondas"
   ]
  },
  {
   "cell_type": "markdown",
   "metadata": {},
   "source": [
    "## Ejemplos con carros\n",
    "Definimos la función de carro, para simular el comportamiento de uno. El proceso requiere de una refrencia al entorno para crear nuevos eventos.\n",
    "Aunque tenemos un ciclo while que nunca acaba recordemos que es un generador por lo cual la simulación se reanuda en el yield donde lo dejamos."
   ]
  },
  {
   "cell_type": "code",
   "execution_count": null,
   "metadata": {},
   "outputs": [],
   "source": [
    "def carro(env):\n",
    "    ''' Proceso de carro\n",
    "    env: Environment\n",
    "    El ambiente en el que estará el proceso\n",
    "    '''\n",
    "    while True:\n",
    "        print('El carro se para en el tiempo', env.now)\n",
    "        duracion_p = 2\n",
    "        yield env.timeout(duracion_p) #esperamos hasta que el proceso esté en el tiempo 5, pasen 5 segundos\n",
    "    \n",
    "        print('Empezamos a conducir en el tiempo', env.now)\n",
    "        duracion_c = 7\n",
    "        yield env.timeout(duracion_c) #esperamos otros 7 segundos (en realidad no son segundos)\n",
    "\n",
    "env = simpy.Environment() #creación del ambiente\n",
    "env.process(carro(env)) #Le agregamos el proceso a correr\n",
    "env.run(until=25)"
   ]
  },
  {
   "cell_type": "markdown",
   "metadata": {},
   "source": [
    "Al producir el evento, le indica a la simulación que quiere esperar a que ocurra el evento.\n",
    "\n",
    "Otro ejemplo de carros un poco más elaborado con recursos compartidos"
   ]
  },
  {
   "cell_type": "code",
   "execution_count": null,
   "metadata": {},
   "outputs": [],
   "source": [
    "def carro(env, nombre, ec, tiempo_conduccion, duracion_carga):\n",
    "    '''\n",
    "    env: Ambiente\n",
    "    nombre: Nombre del proceso\n",
    "    ec: Estación de carga\n",
    "    tiempo_conduccion: Tiempo de condicción que queremos sar\n",
    "    duracion_carga: Duración de la carga\n",
    "    Ilustra el uso de los recursos compartidos\n",
    "    '''\n",
    "    yield env.timeout(tiempo_conduccion) #El tiempo en que llega\n",
    "    print(f'{nombre} llegando en el tiempo {env.now}')\n",
    "\n",
    "    with ec.request() as req:\n",
    "        yield req\n",
    "\n",
    "        print(f'{nombre} cargando en el tiempo {env.now}')\n",
    "        yield env.timeout(duracion_carga) #cuanto tiempo queremos esperar\n",
    "        print('%s dejando la EC en el tiempo %s' % (nombre, env.now))\n",
    "\n",
    "\n",
    "env = simpy.Environment() #creamos ambiente\n",
    "ec = simpy.Resource(env, capacity=2) #Definimos el recurso compartido y la capacidad\n",
    "\n",
    "env.process(carro(env, 'Carro 1', ec, 1, 5))#añadimos el proceso que queremos correr\n",
    "env.process(carro(env, 'Carro 2', ec, 1, 5))#llegan al mismo tiempo\n",
    "env.process(carro(env, 'Carro 3', ec, 5, 5))#llega en el tiempo 5\n",
    "env.process(carro(env, 'Carro 4', ec, 3, 10))#llega en el tiempo 5\n",
    "\n",
    "\n",
    "env.run()#no hay procesos que corran pa siempre, no es necesario el until"
   ]
  },
  {
   "cell_type": "markdown",
   "metadata": {},
   "source": [
    "La instancia de Process que devuelve Environment.process() se puede utilizar para interacciones de procesos. Los dos ejemplos más comunes de esto son esperar a que finalice otro proceso"
   ]
  },
  {
   "cell_type": "code",
   "execution_count": null,
   "metadata": {},
   "outputs": [],
   "source": [
    "class Carro:\n",
    "    '''Ilustra la espera de otros procesos'''\n",
    "    def __init__(self, env) -> None:\n",
    "        self.env = env\n",
    "        self.action = env.process(self.run())\n",
    "\n",
    "    def run(self):\n",
    "        '''El proceso del carro que el ambiente va a ejecutar'''\n",
    "        while True:\n",
    "            print('Empieza a cargarse en el tiempo %d' % self.env.now)\n",
    "            duracion_carga=5\n",
    "            yield self.env.process(self.carga(duracion_carga)) #esperamos el proceso de carga\n",
    "            #el proceso espera a que finalice\n",
    "\n",
    "            print('Empieza a manejar en el tiempo %d' % self.env.now)\n",
    "            duracion_viaje=12\n",
    "            yield self.env.timeout(duracion_viaje)\n",
    "\n",
    "    def carga(self, duracion):\n",
    "        yield self.env.timeout(duracion)\n",
    "\n",
    "env=simpy.Environment()\n",
    "carro = Carro(env)\n",
    "env.run(until=20)"
   ]
  }
 ],
 "metadata": {
  "kernelspec": {
   "display_name": "Python 3.8.7 64-bit (system)",
   "language": "python",
   "name": "python3"
  },
  "language_info": {
   "codemirror_mode": {
    "name": "ipython",
    "version": 3
   },
   "file_extension": ".py",
   "mimetype": "text/x-python",
   "name": "python",
   "nbconvert_exporter": "python",
   "pygments_lexer": "ipython3",
   "version": "3.8.7"
  },
  "orig_nbformat": 4,
  "vscode": {
   "interpreter": {
    "hash": "9790c166df5245b9a735c8c0c33b704de182ccf5c9b0b08f6257803d320f688a"
   }
  }
 },
 "nbformat": 4,
 "nbformat_minor": 2
}
