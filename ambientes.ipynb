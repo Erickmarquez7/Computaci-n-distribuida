{
 "cells": [
  {
   "cell_type": "markdown",
   "metadata": {},
   "source": [
    "## Simpy\n",
    "Ejercicios para aprender a usar ambientes en python con la BIBLIOTECA simpy, con sistemas discretos. Importamos simpy"
   ]
  },
  {
   "cell_type": "code",
   "execution_count": 19,
   "metadata": {},
   "outputs": [],
   "source": [
    "import simpy"
   ]
  },
  {
   "cell_type": "markdown",
   "metadata": {},
   "source": [
    "El objeto provee una colección de métodos que nos permite controlar el ambiente"
   ]
  },
  {
   "cell_type": "code",
   "execution_count": 20,
   "metadata": {},
   "outputs": [
    {
     "name": "stdout",
     "output_type": "stream",
     "text": [
      "time= 0\n"
     ]
    }
   ],
   "source": [
    "env = simpy.Environment() #Creamos el ambiente con simpy\n",
    "print('time=', env.now) #es el tiempo 0\n",
    "env.run() #Así lo corremos aunque no hemos puesto nada en la simulacion"
   ]
  },
  {
   "cell_type": "markdown",
   "metadata": {},
   "source": [
    "Los procesos se implemetan con yield y se adjuntan con env.process.\n",
    "\n",
    "Un proceso se comunica con el entorno con yield, es decir envia un evento al ambiente.\n",
    "\n",
    "Modelamos el tiempo con timeout"
   ]
  },
  {
   "cell_type": "code",
   "execution_count": 21,
   "metadata": {},
   "outputs": [
    {
     "name": "stdout",
     "output_type": "stream",
     "text": [
      "time = 500 ; mensaje de prueba jsjs\n"
     ]
    }
   ],
   "source": [
    "def print_msg():\n",
    "    yield env.timeout(500)\n",
    "    print('time =', env.now,'; mensaje de prueba jsjs')\n",
    "\n",
    "#Creamos el ambiente \n",
    "env = simpy.Environment()\n",
    "\n",
    "#Usamos el generador para crear el proceso, que genera la funcion\n",
    "env.process(print_msg())\n",
    "\n",
    "#corremos la simulación\n",
    "env.run()"
   ]
  },
  {
   "cell_type": "markdown",
   "metadata": {},
   "source": [
    "También puede recibir argumentos para saber en qué momento correrlo, como le indicamos el momento entonces los imprimirá en orden"
   ]
  },
  {
   "cell_type": "code",
   "execution_count": 22,
   "metadata": {},
   "outputs": [
    {
     "name": "stdout",
     "output_type": "stream",
     "text": [
      "time 1: Este es el primer mensaje\n",
      "time 2: Este es el segundo mensaje\n",
      "time 3: Este es el tercer mensaje\n",
      "time 4: Este es el cuarto mensaje\n",
      "time 5: Este es el quinto mensaje\n"
     ]
    }
   ],
   "source": [
    "def print_msg_param(demora, msg):\n",
    "    yield env.timeout(demora)\n",
    "    print(f'time {demora}: {msg}')\n",
    "\n",
    "#Creamos el ambiente con simpy.Environment, y lo procesamos\n",
    "env.process(print_msg_param(3, 'Este es el tercer mensaje'))\n",
    "env.process(print_msg_param(1, 'Este es el primer mensaje'))\n",
    "env.process(print_msg_param(2, 'Este es el segundo mensaje'))\n",
    "env.process(print_msg_param(5, 'Este es el quinto mensaje'))\n",
    "env.process(print_msg_param(4, 'Este es el cuarto mensaje'))\n",
    "#Se imprimiran en orden ya que le indicamos el tiempo\n",
    "env.run()"
   ]
  },
  {
   "cell_type": "markdown",
   "metadata": {},
   "source": [
    "## Ejemplos con carros\n",
    "Definimos la función de carro, para simular el comportamiento de uno"
   ]
  },
  {
   "cell_type": "code",
   "execution_count": 23,
   "metadata": {},
   "outputs": [
    {
     "name": "stdout",
     "output_type": "stream",
     "text": [
      "El carro se para en el tiempo 0\n",
      "Empezamos a conducir en el tiempo 2\n",
      "El carro se para en el tiempo 9\n",
      "Empezamos a conducir en el tiempo 11\n",
      "El carro se para en el tiempo 18\n",
      "Empezamos a conducir en el tiempo 20\n"
     ]
    }
   ],
   "source": [
    "def carro(env):\n",
    "    ''' Proceso de carro\n",
    "    env: Environment\n",
    "    El ambiente en el que estará el proceso\n",
    "    '''\n",
    "    while True:\n",
    "        print('El carro se para en el tiempo', env.now)\n",
    "        duracion_p = 2\n",
    "        yield env.timeout(duracion_p) #esperamos hasta que el proceso esté en el tiempo 5, pasen 5 segundos\n",
    "    \n",
    "        print('Empezamos a conducir en el tiempo', env.now)\n",
    "        duracion_c = 7\n",
    "        yield env.timeout(duracion_c) #esperamos otros 7 segundos (en realidad no son segundos)\n",
    "\n",
    "env = simpy.Environment() #creación del ambiente\n",
    "env.process(carro(env)) #Le agregamos el proceso a correr\n",
    "env.run(until=25)"
   ]
  }
 ],
 "metadata": {
  "kernelspec": {
   "display_name": "Python 3.8.7 64-bit (system)",
   "language": "python",
   "name": "python3"
  },
  "language_info": {
   "codemirror_mode": {
    "name": "ipython",
    "version": 3
   },
   "file_extension": ".py",
   "mimetype": "text/x-python",
   "name": "python",
   "nbconvert_exporter": "python",
   "pygments_lexer": "ipython3",
   "version": "3.8.7"
  },
  "orig_nbformat": 4,
  "vscode": {
   "interpreter": {
    "hash": "9790c166df5245b9a735c8c0c33b704de182ccf5c9b0b08f6257803d320f688a"
   }
  }
 },
 "nbformat": 4,
 "nbformat_minor": 2
}
